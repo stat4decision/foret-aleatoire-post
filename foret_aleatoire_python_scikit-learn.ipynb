{
 "cells": [
  {
   "cell_type": "markdown",
   "id": "08d62452",
   "metadata": {},
   "source": [
    "# Les forêts aléatoires avec python\n",
    "\n",
    "Ce notebook est le code lié à l'article du blog de stat4decision se trouvant ici :\n"
   ]
  },
  {
   "cell_type": "code",
   "execution_count": 1,
   "id": "ad02f726",
   "metadata": {},
   "outputs": [],
   "source": [
    "import numpy as np\n",
    "import pandas as pd\n",
    "from sklearn.ensemble import RandomForestClassifier\n",
    "from sklearn.model_selection import train_test_split"
   ]
  },
  {
   "cell_type": "markdown",
   "id": "b18caa02",
   "metadata": {},
   "source": [
    "On récupère les données, il s'agit de données de vins, on essaye de prédire la couleur du vin à partir des caractérisiques physico-chimiques "
   ]
  },
  {
   "cell_type": "code",
   "execution_count": 2,
   "id": "8cc53e6a",
   "metadata": {},
   "outputs": [],
   "source": [
    "data = pd.read_csv(\"https://www.stat4decision.com/wine_data.csv\", index_col = 0)"
   ]
  },
  {
   "cell_type": "code",
   "execution_count": 3,
   "id": "9940aa11",
   "metadata": {},
   "outputs": [
    {
     "name": "stdout",
     "output_type": "stream",
     "text": [
      "<class 'pandas.core.frame.DataFrame'>\n",
      "Int64Index: 6497 entries, 0 to 1598\n",
      "Data columns (total 13 columns):\n",
      " #   Column                Non-Null Count  Dtype  \n",
      "---  ------                --------------  -----  \n",
      " 0   fixed acidity         6497 non-null   float64\n",
      " 1   volatile acidity      6497 non-null   float64\n",
      " 2   citric acid           6497 non-null   float64\n",
      " 3   residual sugar        6497 non-null   float64\n",
      " 4   chlorides             6497 non-null   float64\n",
      " 5   free sulfur dioxide   6497 non-null   float64\n",
      " 6   total sulfur dioxide  6497 non-null   float64\n",
      " 7   density               6497 non-null   float64\n",
      " 8   pH                    6497 non-null   float64\n",
      " 9   sulphates             6497 non-null   float64\n",
      " 10  alcohol               6497 non-null   float64\n",
      " 11  quality               6497 non-null   int64  \n",
      " 12  type                  6497 non-null   int64  \n",
      "dtypes: float64(11), int64(2)\n",
      "memory usage: 710.6 KB\n"
     ]
    }
   ],
   "source": [
    "data.info()"
   ]
  },
  {
   "cell_type": "code",
   "execution_count": 4,
   "id": "0d779fdb",
   "metadata": {},
   "outputs": [
    {
     "data": {
      "text/plain": [
       "0    4898\n",
       "1    1599\n",
       "Name: type, dtype: int64"
      ]
     },
     "execution_count": 4,
     "metadata": {},
     "output_type": "execute_result"
    }
   ],
   "source": [
    "data[\"type\"].value_counts()"
   ]
  },
  {
   "cell_type": "markdown",
   "id": "83f6b033",
   "metadata": {},
   "source": [
    "## Séparation apprentissage / test\n",
    "\n",
    "On sépare les données en apprentissage / test"
   ]
  },
  {
   "cell_type": "code",
   "execution_count": 5,
   "id": "8e6e9e90",
   "metadata": {},
   "outputs": [],
   "source": [
    "y = data[\"type\"]\n",
    "x = data.drop(\"type\", axis = 1)\n",
    "x_train, x_test, y_train, y_test  = train_test_split(x, \n",
    "                                                     y, \n",
    "                                                     test_size=0.25, \n",
    "                                                     random_state=42)"
   ]
  },
  {
   "cell_type": "markdown",
   "id": "e3caf997",
   "metadata": {},
   "source": [
    "## Apprentissage \n",
    "\n",
    "On crée l'objet à partir de la classe du modèle"
   ]
  },
  {
   "cell_type": "code",
   "execution_count": 6,
   "id": "f7ef2b87",
   "metadata": {},
   "outputs": [],
   "source": [
    "modele_rf = RandomForestClassifier(\n",
    "    n_estimators=100,\n",
    "    criterion='gini',\n",
    "    max_depth=None,\n",
    "    min_samples_split=2,\n",
    "    min_samples_leaf=1,\n",
    "    min_weight_fraction_leaf=0.0,\n",
    "    max_features='auto',\n",
    "    max_leaf_nodes=None,\n",
    "    min_impurity_decrease=0.0,\n",
    "    min_impurity_split=None,\n",
    "    bootstrap=True,\n",
    "    oob_score=False,\n",
    "    n_jobs=None,\n",
    "    random_state=None,\n",
    "    verbose=0,\n",
    "    warm_start=False,\n",
    "    class_weight=None,\n",
    "    ccp_alpha=0.0,\n",
    "    max_samples=None,)"
   ]
  },
  {
   "cell_type": "markdown",
   "id": "0eb4446f",
   "metadata": {},
   "source": [
    "On ajuste le modèle sur les données d'apprentissage "
   ]
  },
  {
   "cell_type": "code",
   "execution_count": 7,
   "id": "109800c7",
   "metadata": {},
   "outputs": [
    {
     "data": {
      "text/plain": [
       "RandomForestClassifier()"
      ]
     },
     "execution_count": 7,
     "metadata": {},
     "output_type": "execute_result"
    }
   ],
   "source": [
    "modele_rf.fit(x_train, y_train)\n"
   ]
  },
  {
   "cell_type": "markdown",
   "id": "fb193fd9",
   "metadata": {},
   "source": [
    "On affiche les importances des variables :"
   ]
  },
  {
   "cell_type": "code",
   "execution_count": 8,
   "id": "81dc6fa6",
   "metadata": {},
   "outputs": [
    {
     "data": {
      "text/html": [
       "<div>\n",
       "<style scoped>\n",
       "    .dataframe tbody tr th:only-of-type {\n",
       "        vertical-align: middle;\n",
       "    }\n",
       "\n",
       "    .dataframe tbody tr th {\n",
       "        vertical-align: top;\n",
       "    }\n",
       "\n",
       "    .dataframe thead th {\n",
       "        text-align: right;\n",
       "    }\n",
       "</style>\n",
       "<table border=\"1\" class=\"dataframe\">\n",
       "  <thead>\n",
       "    <tr style=\"text-align: right;\">\n",
       "      <th></th>\n",
       "      <th>importance</th>\n",
       "    </tr>\n",
       "  </thead>\n",
       "  <tbody>\n",
       "    <tr>\n",
       "      <th>total sulfur dioxide</th>\n",
       "      <td>0.319402</td>\n",
       "    </tr>\n",
       "    <tr>\n",
       "      <th>chlorides</th>\n",
       "      <td>0.251407</td>\n",
       "    </tr>\n",
       "    <tr>\n",
       "      <th>volatile acidity</th>\n",
       "      <td>0.131457</td>\n",
       "    </tr>\n",
       "    <tr>\n",
       "      <th>density</th>\n",
       "      <td>0.065187</td>\n",
       "    </tr>\n",
       "    <tr>\n",
       "      <th>fixed acidity</th>\n",
       "      <td>0.049623</td>\n",
       "    </tr>\n",
       "    <tr>\n",
       "      <th>sulphates</th>\n",
       "      <td>0.048186</td>\n",
       "    </tr>\n",
       "    <tr>\n",
       "      <th>residual sugar</th>\n",
       "      <td>0.043545</td>\n",
       "    </tr>\n",
       "    <tr>\n",
       "      <th>free sulfur dioxide</th>\n",
       "      <td>0.038694</td>\n",
       "    </tr>\n",
       "    <tr>\n",
       "      <th>pH</th>\n",
       "      <td>0.023006</td>\n",
       "    </tr>\n",
       "    <tr>\n",
       "      <th>citric acid</th>\n",
       "      <td>0.017236</td>\n",
       "    </tr>\n",
       "    <tr>\n",
       "      <th>alcohol</th>\n",
       "      <td>0.009834</td>\n",
       "    </tr>\n",
       "    <tr>\n",
       "      <th>quality</th>\n",
       "      <td>0.002423</td>\n",
       "    </tr>\n",
       "  </tbody>\n",
       "</table>\n",
       "</div>"
      ],
      "text/plain": [
       "                      importance\n",
       "total sulfur dioxide    0.319402\n",
       "chlorides               0.251407\n",
       "volatile acidity        0.131457\n",
       "density                 0.065187\n",
       "fixed acidity           0.049623\n",
       "sulphates               0.048186\n",
       "residual sugar          0.043545\n",
       "free sulfur dioxide     0.038694\n",
       "pH                      0.023006\n",
       "citric acid             0.017236\n",
       "alcohol                 0.009834\n",
       "quality                 0.002423"
      ]
     },
     "execution_count": 8,
     "metadata": {},
     "output_type": "execute_result"
    }
   ],
   "source": [
    "pd.DataFrame(modele_rf.feature_importances_,\n",
    "             index = x_train.columns, \n",
    "             columns = [\"importance\"]).sort_values(\n",
    "    \"importance\", \n",
    "    ascending = False)"
   ]
  },
  {
   "cell_type": "markdown",
   "id": "f8183910",
   "metadata": {},
   "source": [
    "## Validation du modèle\n",
    "\n",
    "On valide le modèle sur les données de test :"
   ]
  },
  {
   "cell_type": "code",
   "execution_count": 9,
   "id": "1815633b",
   "metadata": {},
   "outputs": [],
   "source": [
    "from sklearn.metrics import accuracy_score, confusion_matrix"
   ]
  },
  {
   "cell_type": "code",
   "execution_count": 10,
   "id": "0a2dad3d",
   "metadata": {},
   "outputs": [
    {
     "name": "stdout",
     "output_type": "stream",
     "text": [
      "Le pourcentage de bien classés est de : 99.6923076923077 %\n"
     ]
    }
   ],
   "source": [
    "print(f\"Le pourcentage de bien classés est de : {accuracy_score(y_test, modele_rf.predict(x_test))*100} %\")"
   ]
  },
  {
   "cell_type": "markdown",
   "id": "99184402",
   "metadata": {},
   "source": [
    "On a un modèle extrêment efficace. On peut ragrder la matrice de confusion :"
   ]
  },
  {
   "cell_type": "code",
   "execution_count": 11,
   "id": "00536645",
   "metadata": {},
   "outputs": [
    {
     "data": {
      "text/html": [
       "<div>\n",
       "<style scoped>\n",
       "    .dataframe tbody tr th:only-of-type {\n",
       "        vertical-align: middle;\n",
       "    }\n",
       "\n",
       "    .dataframe tbody tr th {\n",
       "        vertical-align: top;\n",
       "    }\n",
       "\n",
       "    .dataframe thead th {\n",
       "        text-align: right;\n",
       "    }\n",
       "</style>\n",
       "<table border=\"1\" class=\"dataframe\">\n",
       "  <thead>\n",
       "    <tr style=\"text-align: right;\">\n",
       "      <th></th>\n",
       "      <th>blanc_predit</th>\n",
       "      <th>rouge_predit</th>\n",
       "    </tr>\n",
       "  </thead>\n",
       "  <tbody>\n",
       "    <tr>\n",
       "      <th>blanc_données</th>\n",
       "      <td>1239</td>\n",
       "      <td>0</td>\n",
       "    </tr>\n",
       "    <tr>\n",
       "      <th>rouge_données</th>\n",
       "      <td>5</td>\n",
       "      <td>381</td>\n",
       "    </tr>\n",
       "  </tbody>\n",
       "</table>\n",
       "</div>"
      ],
      "text/plain": [
       "               blanc_predit  rouge_predit\n",
       "blanc_données          1239             0\n",
       "rouge_données             5           381"
      ]
     },
     "execution_count": 11,
     "metadata": {},
     "output_type": "execute_result"
    }
   ],
   "source": [
    "pd.DataFrame(confusion_matrix(y_test, modele_rf.predict(x_test)),\n",
    "            index = [\"blanc_données\", \"rouge_données\"],\n",
    "            columns = [\"blanc_predit\", \"rouge_predit\"])"
   ]
  },
  {
   "cell_type": "markdown",
   "id": "22f9e7ea",
   "metadata": {},
   "source": [
    "On peut maintenant utiliser ce modèle pour faire de la prédiction :"
   ]
  },
  {
   "cell_type": "raw",
   "id": "7bdbd1c3",
   "metadata": {},
   "source": [
    "modele_rf.predict()"
   ]
  },
  {
   "cell_type": "markdown",
   "id": "2ecc3383",
   "metadata": {},
   "source": [
    "Pour aller plus loin, on pourra utiliser des outils comme `GridSearchCV` pour l'ajustement des hyperparamètres du modèle."
   ]
  }
 ],
 "metadata": {
  "kernelspec": {
   "display_name": "Python 3",
   "language": "python",
   "name": "python3"
  },
  "language_info": {
   "codemirror_mode": {
    "name": "ipython",
    "version": 3
   },
   "file_extension": ".py",
   "mimetype": "text/x-python",
   "name": "python",
   "nbconvert_exporter": "python",
   "pygments_lexer": "ipython3",
   "version": "3.7.6"
  }
 },
 "nbformat": 4,
 "nbformat_minor": 5
}
